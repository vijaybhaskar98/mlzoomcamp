{
 "cells": [
  {
   "cell_type": "code",
   "execution_count": 2,
   "id": "692d4c34",
   "metadata": {},
   "outputs": [],
   "source": [
    "#Importing the necessary libraries\n",
    "import pandas as pd\n",
    "import numpy as np\n"
   ]
  },
  {
   "cell_type": "code",
   "execution_count": null,
   "id": "1579401f",
   "metadata": {},
   "outputs": [],
   "source": [
    "# Getting the data\n",
    "#!wget https://raw.githubusercontent.com/alexeygrigorev/mlbookcamp-code/master/chapter-03-churn-prediction/WA_Fn-UseC_-Telco-Customer-Churn.csv\n",
    "df = pd.read_csv('WA_Fn-UseC_-Telco-Customer-Churn.csv')\n"
   ]
  },
  {
   "cell_type": "code",
   "execution_count": 8,
   "id": "69de1418",
   "metadata": {},
   "outputs": [],
   "source": [
    "# data preprocessing block\n",
    "def preprocess(data):\n",
    "    # Convert column names to lowercase and replace spaces with underscores\n",
    "    data.columns = data.columns.str.lower().str.replace(' ', '_')\n",
    "    \n",
    "    # Identify categorical columns (object dtype)\n",
    "    categorical_columns = list(data.dtypes[data.dtypes == 'object'].index)\n",
    "    \n",
    "    # Convert string values in categorical columns to lowercase and replace spaces with underscores\n",
    "    for c in categorical_columns:\n",
    "        data[c] = data[c].str.lower().str.replace(' ', '_')\n",
    "    \n",
    "    return data"
   ]
  },
  {
   "cell_type": "code",
   "execution_count": 22,
   "id": "455992af",
   "metadata": {
    "scrolled": true
   },
   "outputs": [],
   "source": [
    "preprocess(df)\n",
    "df.totalcharges = pd.to_numeric(df.totalcharges, errors='coerce')\n",
    "df.totalcharges = df.totalcharges.fillna(0)\n",
    "df.churn = (df.churn == 'yes').astype(int)\n",
    "\n",
    "# Set up validation data frame\n",
    "from sklearn.model_selection import train_test_split\n",
    "df_fulltrain,df_test = train_test_split(df,test_size=0.2,random_state=1)\n",
    "\n",
    "# Further splitting of training and val data \n",
    "df_train, df_val = train_test_split(df_fulltrain, test_size=0.25, random_state=1)"
   ]
  },
  {
   "cell_type": "code",
   "execution_count": 25,
   "id": "b220c10d",
   "metadata": {},
   "outputs": [],
   "source": [
    "# Resetting index of the 3 datasets \n",
    "df_train = df_train.reset_index(drop=True)\n",
    "df_val = df_val.reset_index(drop=True)\n",
    "df_test = df_test.reset_index(drop=True)"
   ]
  },
  {
   "cell_type": "code",
   "execution_count": 26,
   "id": "7d724908",
   "metadata": {},
   "outputs": [],
   "source": [
    "# Setting the y values.\n",
    "y_train = df_train.churn.values\n",
    "y_val = df_val.churn.values\n",
    "y_test = df_test.churn.values\n",
    "\n",
    "del df_train['churn']\n",
    "del df_val['churn']\n",
    "del df_test['churn']"
   ]
  }
 ],
 "metadata": {
  "kernelspec": {
   "display_name": "Python 3 (ipykernel)",
   "language": "python",
   "name": "python3"
  },
  "language_info": {
   "codemirror_mode": {
    "name": "ipython",
    "version": 3
   },
   "file_extension": ".py",
   "mimetype": "text/x-python",
   "name": "python",
   "nbconvert_exporter": "python",
   "pygments_lexer": "ipython3",
   "version": "3.10.9"
  }
 },
 "nbformat": 4,
 "nbformat_minor": 5
}
