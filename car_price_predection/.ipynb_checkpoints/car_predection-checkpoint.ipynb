{
 "cells": [
  {
   "cell_type": "code",
   "execution_count": 22,
   "id": "7a808688",
   "metadata": {},
   "outputs": [
    {
     "name": "stdout",
     "output_type": "stream",
     "text": [
      "Requirement already satisfied: scikit-learn in /home/mlops_project/mlzoomcamp/lib/python3.10/site-packages (1.2.1)\r\n",
      "Requirement already satisfied: joblib>=1.1.1 in /home/mlops_project/mlzoomcamp/lib/python3.10/site-packages (from scikit-learn) (1.1.1)\r\n",
      "Requirement already satisfied: numpy>=1.17.3 in /home/mlops_project/mlzoomcamp/lib/python3.10/site-packages (from scikit-learn) (1.23.5)\r\n",
      "Requirement already satisfied: threadpoolctl>=2.0.0 in /home/mlops_project/mlzoomcamp/lib/python3.10/site-packages (from scikit-learn) (2.2.0)\r\n",
      "Requirement already satisfied: scipy>=1.3.2 in /home/mlops_project/mlzoomcamp/lib/python3.10/site-packages (from scikit-learn) (1.10.0)\r\n"
     ]
    }
   ],
   "source": [
    "# Import neessary libraries\n",
    "import pandas as pd\n",
    "import numpy as np\n",
    "import matplotlib.pyplot as plt\n",
    "import seaborn as sns\n",
    "%matplotlib inline\n",
    "!pip install scikit-learn\n",
    "\n",
    "from sklearn.model_selection import train_test_split\n",
    "from sklearn.linear_model import LinearRegression\n",
    "from sklearn.metrics import mean_squared_error\n",
    "\n",
    "from sklearn.impute import SimpleImputer\n",
    "from sklearn.preprocessing import OneHotEncoder\n",
    "from sklearn.compose import ColumnTransformer\n",
    "from sklearn.pipeline import Pipeline"
   ]
  },
  {
   "cell_type": "markdown",
   "id": "338a3c63",
   "metadata": {},
   "source": [
    "#Connect data\n",
    "!wget https://github.com/alexeygrigorev/mlbookcamp-code/raw/master/chapter-02-car-price/data.csv\n"
   ]
  },
  {
   "cell_type": "code",
   "execution_count": 23,
   "id": "4b1ea972",
   "metadata": {},
   "outputs": [],
   "source": [
    "#importing the data\n",
    "data = pd.read_csv(\"data.csv\")\n",
    "#data.head()\n",
    "\n",
    "#treating inconsistenciess, replacing white space with _, and capital letter with small\n",
    "data.columns=data.columns.str.lower().str.replace(' ','_')\n",
    "data.head()\n",
    "\n",
    "for col in data.select_dtypes(include=['object']).columns:\n",
    "    data[col]=data[col].str.lower().str.replace(' ','_')\n",
    "    \n"
   ]
  },
  {
   "cell_type": "markdown",
   "id": "69536d5f",
   "metadata": {},
   "source": [
    "Data validation setting"
   ]
  },
  {
   "cell_type": "code",
   "execution_count": 24,
   "id": "3630beb5",
   "metadata": {},
   "outputs": [],
   "source": [
    "# Data preparation\n",
    "n = len(data)\n",
    "n_val = n_test = int(n * 0.2)\n",
    "n_train = n - n_val - n_test\n",
    "n , n_val+n_test+n_train\n",
    "\n",
    "data_train = data.iloc[:n_train]\n",
    "data_val = data.iloc[n_train:n_train + n_val]\n",
    "data_test = data.iloc[n_train + n_val:]\n",
    "# Shuffle the dta\n",
    "idx = np.arange(n)\n",
    "np.random.shuffle(idx)\n",
    "#Create shuffled datasets with correct size\n",
    "data_train = data.iloc[idx[:n_train]]\n",
    "data_val = data.iloc[idx[n_train:n_train + n_val]]\n",
    "data_test = data.iloc[idx[n_train + n_val:]]\n",
    "# reset the index\n",
    "data_train = data_train.reset_index(drop=True)\n",
    "data_val = data_val.reset_index(drop=True)\n",
    "data_test = data_test.reset_index(drop=True)\n",
    "# apply the log function to y columns\n",
    "y_train = np.log1p(data_train.msrp.values)\n",
    "y_val = np.log1p(data_val.msrp.values)\n",
    "y_test = np.log1p(data_test.msrp.values)\n",
    "\n",
    "#features preparation \n"
   ]
  },
  {
   "cell_type": "code",
   "execution_count": 25,
   "id": "94e89f72",
   "metadata": {},
   "outputs": [],
   "source": [
    "#Building a regession model\n",
    "def RG_model(data_train, y_train):\n",
    "    # Splitting data into training and testing sets\n",
    "    X_train, X_test, y_train, y_test = train_test_split(data_train, y_train, test_size=0.2, random_state=42)\n",
    "\n",
    "    # Initializing and training the regression model\n",
    "    model = LinearRegression()\n",
    "    model.fit(X_train, y_train)\n",
    "\n",
    "    # Predicting on the test set\n",
    "    y_pred = model.predict(X_test)\n",
    "\n",
    "    # Calculating RMSE\n",
    "    rmse = np.sqrt(mean_squared_error(y_test, y_pred))\n",
    "\n",
    "    # Printing RMSE\n",
    "    print(f\"Root Mean Squared Error (RMSE): {rmse}\")\n",
    "\n"
   ]
  },
  {
   "cell_type": "code",
   "execution_count": 26,
   "id": "c79d5f02",
   "metadata": {},
   "outputs": [
    {
     "name": "stdout",
     "output_type": "stream",
     "text": [
      "Root Mean Squared Error (RMSE): 0.7310854243305847\n"
     ]
    }
   ],
   "source": [
    "# Base model\n",
    "#electing the numeric value only\n",
    "base = ['engine_hp', 'engine_cylinders', 'highway_mpg', 'city_mpg', 'popularity']\n",
    "x_base =data_train[base]\n",
    "x_base =x_base.fillna(0)\n",
    "\n",
    "RG_model(x_base, y_train)"
   ]
  },
  {
   "cell_type": "code",
   "execution_count": 27,
   "id": "2de75eab",
   "metadata": {},
   "outputs": [],
   "source": [
    "def preprocess_data(df):\n",
    "    # Separate features and target variable if 'msrp' is present\n",
    "    if 'msrp' in df.columns:\n",
    "        X = df.drop('msrp', axis=1)\n",
    "        y = df['msrp']\n",
    "    else:\n",
    "        X = df\n",
    "        y = None\n",
    "\n",
    "    # Identify numerical and categorical columns\n",
    "    numerical_cols = X.select_dtypes(include=['int64', 'float64']).columns\n",
    "    categorical_cols = X.select_dtypes(include=['object']).columns\n",
    "\n",
    "    # Preprocessing for numerical data: impute with mean\n",
    "    numerical_transformer = SimpleImputer(strategy='mean')\n",
    "\n",
    "    # Preprocessing for categorical data: one-hot encode\n",
    "    categorical_transformer = OneHotEncoder(handle_unknown='ignore')\n",
    "\n",
    "    # Bundle preprocessing for numerical and categorical data\n",
    "    preprocessor = ColumnTransformer(\n",
    "        transformers=[\n",
    "            ('num', numerical_transformer, numerical_cols),\n",
    "            ('cat', categorical_transformer, categorical_cols)\n",
    "        ])\n",
    "\n",
    "    # Preprocess the data\n",
    "    X_preprocessed = preprocessor.fit_transform(X)\n",
    "\n",
    "    # If target variable 'msrp' is present, return both X and y\n",
    "    if y is not None:\n",
    "        return X_preprocessed, y\n",
    "    else:\n",
    "        return X_preprocessed\n"
   ]
  },
  {
   "cell_type": "code",
   "execution_count": 28,
   "id": "4c78d3b4",
   "metadata": {},
   "outputs": [
    {
     "data": {
      "text/plain": [
       "(<7150x1037 sparse matrix of type '<class 'numpy.float64'>'\n",
       " \twith 107215 stored elements in Compressed Sparse Row format>,\n",
       " 0       19120\n",
       " 1       35370\n",
       " 2       23155\n",
       " 3       35445\n",
       " 4       50950\n",
       "         ...  \n",
       " 7145    27499\n",
       " 7146    32175\n",
       " 7147    26310\n",
       " 7148    55285\n",
       " 7149    28249\n",
       " Name: msrp, Length: 7150, dtype: int64)"
      ]
     },
     "execution_count": 28,
     "metadata": {},
     "output_type": "execute_result"
    }
   ],
   "source": [
    "preprocess_data(data_train)"
   ]
  }
 ],
 "metadata": {
  "kernelspec": {
   "display_name": "Python 3 (ipykernel)",
   "language": "python",
   "name": "python3"
  },
  "language_info": {
   "codemirror_mode": {
    "name": "ipython",
    "version": 3
   },
   "file_extension": ".py",
   "mimetype": "text/x-python",
   "name": "python",
   "nbconvert_exporter": "python",
   "pygments_lexer": "ipython3",
   "version": "3.10.9"
  }
 },
 "nbformat": 4,
 "nbformat_minor": 5
}
